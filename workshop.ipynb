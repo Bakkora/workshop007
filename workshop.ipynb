{
 "cells": [
  {
   "cell_type": "markdown",
   "metadata": {},
   "source": [
    "# 金融科技第一次实验 Fintech WorkShop No.1"
   ]
  },
  {
   "cell_type": "markdown",
   "metadata": {},
   "source": [
    "## 实验目标：熟悉Git、GitHub、Markdown和Jupyter Notebook"
   ]
  },
  {
   "cell_type": "markdown",
   "metadata": {},
   "source": [
    "## 实验内容\n",
    "- git **[官方网站](https://git-scm.com/doc)**.\n",
    "- GitHub **[官方网站](https://www.github.com)**.\n",
    "- Markdown **[CheatSheet](https://github.com/adam-p/markdown-here/wiki/Markdown-Cheatsheet)**.\n",
    "- Jupyter Notebook**[CheatSheet](https://res.cloudinary.com/dyd911kmh/image/upload/v1676302533/Marketing/Blog/Jupyterlab_Cheat_Sheet.pdf)**."
   ]
  },
  {
   "cell_type": "markdown",
   "metadata": {},
   "source": [
    "### 1. GIT和Github\n",
    "因为我们一直在不断进步，所以我们也不断修改我们的文档和代码。：）\n",
    "GIT能够帮助我们更好地进行版本管理。\n",
    "“版本控制”，也称为版本控制，源代码控制 或软件配置管理（SCM），是\n",
    "**存储和管理文档、代码的更改信息。**\n",
    "\n",
    "跟踪并重现工作的每一步 在软件世界中：它被称为版本控制！\n",
    "\n",
    "（优秀的）版本控制工具给你带来了什么？\n",
    "\n",
    "安心（备份） 自由（探索性分支） 协作（同步）"
   ]
  },
  {
   "cell_type": "markdown",
   "metadata": {},
   "source": [
    "#### GIT常用命令和用法\n",
    "-   **安装git** 参见官网安装文档\n",
    "    [link](https://git-scm.com/book/zh/v2/%E8%B5%B7%E6%AD%A5-%E5%AE%89%E8%A3%85-Git)\n",
    "\n",
    "-   **在本地创建存储库repo** （*请补齐操作步骤*）\n",
    "\n",
    "    1.  设置git全局用户名 `git config --global user.name \"007\"`然后` git config --global user.email \"YJY20030826wyb@163.com\"`\n",
    "    2.  初始化当前文件夹为git仓库 ` mkdir mynewproject`然后`cd mynewproject/`然后`git init`\n",
    "    3.  设置git当前仓库用户名`git config user.name \"007\"`然后` git config user.email \"YJY20030826wyb@163.com\"`\n",
    "    4.  检查当前用户名设置`git config --list`\n",
    "\n",
    "\n",
    "-   **在本地创建文件、添加文件和修改文件时的git操作**\n",
    "    （*请补齐操作步骤*）\n",
    "\n",
    "    1.  创建本文档workshop.ipynb `在jupyter里创建python3新文档`\n",
    "    2.  添加和确认提交此文件   \n",
    "    3.  修改文件后再次确认提交\n",
    "    4.  查看当前仓库状态\n",
    "\n",
    "-   **创建远程仓库[ref](https://docs.github.com/zh/get-started/importing-your-projects-to-github/importing-source-code-to-github/adding-locally-hosted-code-to-github)**\n",
    "    （*请补齐操作步骤*）\n",
    "\n",
    "    1.  在github上创建账号并获取ssh-key\n",
    "    2.  在github上创建一个没有readme、许可协议和git ignore文件的新存储库\n",
    "    3.  在上一步创建的本地仓库中添加远程仓库地址（github）\n",
    "    4.  将本地仓库的更改推送到github中\n",
    "\n",
    "-   **获取他人（组长）的远程仓库到本地并完成更改后提交**\n",
    "    （*请补齐操作步骤*）\n",
    "\n",
    "-   **组长合并他人的提交** （*请补齐操作步骤*）\n"
   ]
  },
  {
   "cell_type": "markdown",
   "metadata": {},
   "source": [
    "### 2. Markdown常用命令和用法\n",
    "#### 常用语法\n",
    "\n",
    "（*请补齐命令和说明*）\n",
    "\n",
    "-   标题 （这是xxx的自我介绍标题）\n",
    "-   粗体、斜体和~~删除线~~ （我的**兴趣爱好**， 我的*擅长*，\n",
    "    我改进了~~哪些我不喜欢的内容~~）\n",
    "-   有序列表和无序列表\n",
    "-   [超链接](https://www.swufe.edu.cn)\n",
    "-   插入图像\n",
    "-   插入`代码`以突出显示\n",
    "-   插入整块引用\n",
    "\n",
    "    > 这是我最近最喜欢的一句话，是由某某某所讲\n",
    "\n",
    "-   插入视频\n",
    "\n",
    "------------------------------------------------------------------------\n",
    "\n",
    "#### 完成个人介绍，使用Markdown完成\n",
    "\n",
    "------------------------------------------------------------------------\n",
    "\n",
    "#### 请各自补充组员的基本信息\n",
    "\n",
    "|  姓名 |   学号   |   专业及年级  |  小组代号  |\n",
    "| ------| ---------- |  --------------| ---------- |\n",
    "|  xxx  |  40000000 |   2021CFA    |   GGG    |\n",
    "|  bbb  |  41000000 |  2021信用管理  |   GGG    |\n",
    "|  bbb  |  41000000 |  2021信用管理  |   GGG    |\n",
    "|  bbb  |  41000000 |  2021信用管理  |   GGG    |\n",
    "\n",
    "#### Latex（选）<https://editor.codecogs.com/>"
   ]
  },
  {
   "cell_type": "markdown",
   "metadata": {},
   "source": [
    "-   二次项定理\n",
    "\n",
    "\\$\\$ (x+y)\\^n = \\\\sum\\_{k=0}\\^n {n \\\\choose k} x\\^{n - k} y\\^k. \\$\\$"
   ]
  },
  {
   "cell_type": "markdown",
   "metadata": {},
   "source": [
    "-   指数函数\n",
    "\n",
    "\\$\\$ e\\^x = \\\\lim\\_{n \\\\to \\\\infty} \\\\left( 1+ \\\\frac{x}{n} \\\\right)\\^n.\n",
    "\\$\\$\n",
    "-   柯西不等式\n",
    "\n",
    "\\$\\$ \\\\left( \\\\sum\\_{k=1}\\^n a\\_k b\\_k \\\\right)\\^2 \\\\leq \\\\left(\n",
    "\\\\sum\\_{k=1}\\^n a\\_k\\^2 \\\\right) \\\\left( \\\\sum\\_{k=1}\\^n b\\_k\\^2\n",
    "\\\\right). \\$\\$\n",
    "-   贝叶斯定理\n",
    "\n",
    "\\$\\$ P(A \\\\mid B) = \\\\frac{P(B \\\\mid A) \\\\, P(A)}{P(B)}. \\$\\$\n"
   ]
  },
  {
   "cell_type": "markdown",
   "metadata": {},
   "source": [
    "- 欧拉公式 \n",
    "\n",
    "**Theorem** (Euler's summation formula). *If* **f** *has a continuous derivative* **f'** *on the interval* [y,x],*where*0<y<x,*then*\n",
    "$$ \n",
    "  \\begin{equation}\n",
    "  \\begin{aligned}\n",
    "  \\sum_{y<n\\leq x}^{}f(n)&=\\int_{y}^{x}f(t)dt+\\int_{y}^{x}(t-[t])f'(t)dt\\\\&+f(x)([x]-x)-f(y)([y]-y).\n",
    "  \\end{aligned}\n",
    "  \\end{equation}\n",
    "$$\n"
   ]
  },
  {
   "cell_type": "markdown",
   "metadata": {},
   "source": [
    "*Proof*.Let m = [y] and k =[x].For integers n and n-1 in [y,x] we have\n",
    "$$\n",
    "\\begin{equation}\\begin{aligned}\\int_{n}^{n-1}[t]f'(t)dt&=\\int_{n}^{n-1}(n-1)f'(t)dt\\\\&=(n-1)\\left\\{ f(n)-f(n-1)\\right\\}\\\\&=\\left\\{ nf(n)-(n-1)f(n-1)\\right\\}-f(n)\\end{aligned}\\end{equation}\n",
    "$$"
   ]
  },
  {
   "cell_type": "markdown",
   "metadata": {},
   "source": [
    "Summing from \n",
    "n\n",
    "=\n",
    "m\n",
    "+\n",
    "2\n",
    " to \n",
    "n\n",
    "=\n",
    "k\n",
    " we find that the first sum telescopes, hence\n",
    "$$ \n",
    "  \\begin{equation}\n",
    "  \\begin{aligned}\n",
    "  \\sum_{y<n\\leq x}^{}f(n)&=\\int_{y}^{x}f(t)dt+\\int_{y}^{x}(t-[t])f'(t)dt\\\\&+f(x)([x]-x)-f(y)([y]-y).\n",
    "  \\end{aligned}\n",
    "  \\end{equation}\n",
    "$$\n"
   ]
  },
  {
   "cell_type": "markdown",
   "metadata": {},
   "source": [
    "Therefore\n",
    "\\begin{equation}\n",
    "\\begin{aligned}\n",
    "\\sum_{y< n\\leq x}^{}f\\left ( n \\right )\n",
    "&=-\\int_{m+1}^{k}\\left [ t \\right ]f'\\left ( t \\right ) dt+kf\\left ( k \\right )-mf\\left ( m+1 \\right )\\\\&=-\\int_{y}^{x} \\left [ t \\right ]f'\\left ( x \\right )dt+kf\\left ( x \\right )-mf(y).\n",
    "\\end{aligned}\n",
    "\\end{equation}"
   ]
  },
  {
   "cell_type": "markdown",
   "metadata": {},
   "source": [
    "Integration by parts gives us\n",
    "\\begin{equation}\n",
    "\\begin{aligned}\n",
    "\\int_{y}^{x} f(t)dt=xf(x)-yf(y)-\\int_{y}^{x}tf'(t)dt\n",
    "\\end{aligned}\n",
    "\\end{equation}"
   ]
  },
  {
   "cell_type": "code",
   "execution_count": null,
   "metadata": {},
   "outputs": [],
   "source": []
  }
 ],
 "metadata": {
  "kernelspec": {
   "display_name": "Python 3",
   "language": "python",
   "name": "python3"
  },
  "language_info": {
   "codemirror_mode": {
    "name": "ipython",
    "version": 3
   },
   "file_extension": ".py",
   "mimetype": "text/x-python",
   "name": "python",
   "nbconvert_exporter": "python",
   "pygments_lexer": "ipython3",
   "version": "3.7.1"
  }
 },
 "nbformat": 4,
 "nbformat_minor": 2
}
